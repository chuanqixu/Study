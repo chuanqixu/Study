{
 "cells": [
  {
   "cell_type": "markdown",
   "id": "f5d21946",
   "metadata": {
    "slideshow": {
     "slide_type": "-"
    }
   },
   "source": [
    "# Laboratorio 4: Corrección de Errores\n",
    "\n",
    "Los circuitos dinámicos también tienen el potencial de ser de gran ayuda con la corrección de errores en las computadoras cuánticas. Si no estás familiarizado con la corrección de errores cuánticos, no te preocupes, comenzaremos presentando el concepto con datos clásicos y luego aplicaremos ese enfoque a las computadoras cuánticas.\n",
    "\n",
    "La corrección de errores es importante para la computación cuántica, ya que los qubits físicos son susceptibles al ruido. Esto significa que siempre tendremos una pequeña probabilidad de que ocurran errores al ejecutar nuestros circuitos. La corrección de errores nos ayudará a lidiar con esas pequeñas probabilidades y garantizar que obtengamos los resultados correctos al final, corrigiendo los errores a medida que ocurren.\n",
    "\n",
    "Si deseas obtener más información sobre la corrección de errores cuántica o algunos ejercicios adicionales, el **[Libro de Texto de Qiskit tiene una excelente sección sobre el tema](https://learn.qiskit.org/course/quantum-hardware/introduction-to-quantum-error-correction-via-the-repetition-code)**\n",
    "\n",
    "\n",
    "Entonces, preparemos todo lo que necesitamos y luego comencemos."
   ]
  },
  {
   "cell_type": "code",
   "execution_count": null,
   "id": "ff5a01f6-c357-4d6d-8c86-95991b311231",
   "metadata": {
    "slideshow": {
     "slide_type": "-"
    },
    "tags": []
   },
   "outputs": [],
   "source": [
    "# Importing all the parts we will need.\n",
    "from typing import List, Optional\n",
    "\n",
    "from qiskit import transpile, QuantumCircuit, QuantumRegister, ClassicalRegister, Aer\n",
    "from qiskit.providers.fake_provider import FakeManilaV2\n",
    "from qiskit.visualization import plot_histogram\n",
    "\n",
    "\n",
    "import warnings\n",
    "\n",
    "warnings.filterwarnings(\"ignore\")\n",
    "\n",
    "import math\n",
    "\n",
    "pi = math.pi"
   ]
  },
  {
   "cell_type": "markdown",
   "id": "b0558967-b671-4ff5-9df5-90dadd9295b7",
   "metadata": {
    "slideshow": {
     "slide_type": "-"
    },
    "tags": []
   },
   "source": [
    "## Corrección de Errores Clásica\n",
    "\n",
    "¿Por qué se creó la corrección de errores en primer lugar?\n",
    "\n",
    "Piensa en hablar con alguien por teléfono cuando tengas mala recepción. A pesar de tus mejores esfuerzos para hablar con claridad, a veces el mensaje se cambia o se arruina. \"Vamos a almorzar con Fred el viernes\" se convierte en \"Vamos a golpear a Fred el viernes\". El fin de semana de Fred se puso mucho peor.\n",
    "\n",
    "Cada vez que envías un mensaje, incluso uno tan simple como un bit, siempre existe la posibilidad de que ocurran pequeños errores. Si envías un bit de datos a través de un cable, puede haber una pequeña posibilidad de que el bit se invierta, por lo que en lugar de un `0`, el destinatario obtenga un `1`. Esto puede suceder con más frecuencia si el cable es viejo y está corroído. Lo mismo podría suceder potencialmente al almacenar datos: piensa en un CD que se raya. En el peor de los casos, los errores podrían incluso ocurrir durante un cálculo en tu procesador.\n",
    "\n",
    "La posibilidad de errores es un problema conocido para la información clásica.\n",
    "\n",
    "Imaginemos que la posibilidad de que un bit se voltee accidentalmente (también conocido como error) es del 10%. Esto significaría que por cada bit de datos que enviamos, existe una posibilidad entre diez de que el bit recibido sea incorrecto. Podrías enviar un mensaje de `0` diez veces, pero el mensaje recibido podría decir '0001000000'. Ya puedes ver el problema.\n",
    "\n",
    "Una de las soluciones más simples es usar algo de repetición. Mi bit de datos `1` se puede codificar como `111` y, de la misma manera, un `0` se codifica como `000`. Cada bit de datos ahora se codifica con tres bits en lugar de uno solo.\n",
    "\n",
    "¿Por qué esto ayuda?\n",
    "\n",
    "Si ahora enviamos `000` y ocurre un error, entonces el receptor podría ver 001. Dado que el receptor sabe que _debería_ haber obtenido 000 o 111, podría deducir que probablemente se envió 000, y se invirtió un solo bit. ¡Errores, corregidos!\n",
    "\n",
    "Pero, ¿y si se producen varios errores? Nuestro mensaje se convierte en `011` y el destinatario ahora asume que queríamos enviar `111`. ¡Verdadero error! Al usar la repetición, reducimos la posibilidad de que eso suceda, pero no la eliminamos. Entonces, ¿cuánto reducimos exactamente la tasa de error? ¡Vamos a investigar!\n",
    "\n",
    "Puedes encontrar la probabilidad de cómo cambian los errores con el siguiente código:"
   ]
  },
  {
   "cell_type": "code",
   "execution_count": null,
   "id": "6a9843d1",
   "metadata": {
    "slideshow": {
     "slide_type": "-"
    },
    "tags": []
   },
   "outputs": [],
   "source": [
    "# Probability for a 000 message to contain one error:\n",
    "p1 = 0.10\n",
    "\n",
    "# Calculating the probability of a message containing 2 or 3 errors:\n",
    "p3 = 3 * p1 * p1 * (1 - p1) + p1 * p1 * p1\n",
    "\n",
    "print(\"Percent chance the 000 message has one error: {}\".format(p1 * 100))\n",
    "print(\"Percent chance the 000 message has 2 or 3 errors: {:.4f}\".format(p3 * 100))"
   ]
  },
  {
   "cell_type": "markdown",
   "id": "c0ec6910-4391-4665-8fc6-86d63f10b2a7",
   "metadata": {
    "slideshow": {
     "slide_type": "-"
    },
    "tags": []
   },
   "source": [
    "Al usar la repetición, reducimos la posibilidad de que los errores arruinen nuestro mensaje a solo el 2.8% del tiempo (cuando se invierten 2 o más bits). Esto es mucho mejor que el 10% de las veces que encontraríamos si solo usáramos un bit. Sin embargo, acabamos de compensar la tasa de error del 10%. También puedes compensar las tasas de error, pruébalo. Cambia el porcentaje de error `p1` para ver cómo esto afectaría la probabilidad de que ocurran 2 o más errores.\n",
    "\n",
    "Sabiendo cómo puede ayudar la repetición, podríamos implementar un programa simple que \"codifique\" el mensaje anterior. Transformaría 1 bit en 3 bits. Entonces también podríamos escribir un programa simple para \"decodificar\" el mensaje, tomando los 3 bits y volviéndolos a convertir en uno. De hecho, suena como un gran primer ejercicio para intentar:"
   ]
  },
  {
   "cell_type": "markdown",
   "id": "025239bd-de53-46e9-970d-3bff1697d5a9",
   "metadata": {},
   "source": [
    "### Ejercicio 1\n",
    "\n",
    "Como introducción, construyamos un \"decodificador\" que decodifique un estado de 3 bits usando los qubits 0, 1 y 2 en un solo bit en el qubit 4, siguiendo las reglas a continuación:\n",
    "\n",
    "- 000->0\n",
    "- 001->0\n",
    "- 010->0\n",
    "- 100->0\n",
    "- 111->1\n",
    "- 110->1\n",
    "- 101->1\n",
    "- 011->1\n",
    "\n",
    "_Hint: solo necesitamos invertir bits, por lo que no se necesitan compuertas que introduzcan una fase. Y solo necesitamos **[compuertas básicas](https://qiskit.org/documentation/apidoc/circuit_library.html#standard-gates)**_"
   ]
  },
  {
   "cell_type": "code",
   "execution_count": null,
   "id": "cf937a74-4e0f-463d-a70c-1aec320b2ff6",
   "metadata": {
    "slideshow": {
     "slide_type": "-"
    },
    "tags": []
   },
   "outputs": [],
   "source": [
    "# Creating a simple decoder for the classical case\n",
    "def create_decoder(qr: QuantumRegister, cr: ClassicalRegister) -> QuantumCircuit:\n",
    "    # Expect a bit being encoded in the first 3 qubits and decode it into the 4th qubit\n",
    "    # Make sure values of the first 3 qubit stays the same\n",
    "\n",
    "    qc = QuantumCircuit(qr, cr)\n",
    "    q0, q1, q2, q3 = qr\n",
    "    (c0,) = cr\n",
    "\n",
    "    ####### your code goes here #######\n",
    "\n",
    "    return qc"
   ]
  },
  {
   "cell_type": "markdown",
   "id": "5976ca3f-e439-4c1a-872f-83a191be7be8",
   "metadata": {
    "slideshow": {
     "slide_type": "-"
    },
    "tags": []
   },
   "source": [
    "Veamos ahora cómo se vería nuestra decodificación para el caso que hemos codificado 1.\n",
    "\n",
    "Trata de jugar con diferentes entradas (incluidas las que tienen un error), para ver cómo se comportaría tu circuito de corrección de errores en estos casos."
   ]
  },
  {
   "cell_type": "code",
   "execution_count": null,
   "id": "91f217d8-6d6f-4331-bf4a-7edd9b174fd3",
   "metadata": {
    "slideshow": {
     "slide_type": "-"
    },
    "tags": []
   },
   "outputs": [],
   "source": [
    "# We expect a bit being encoded in the first 3 qubits and decode it into the 4th qubit\n",
    "qr = QuantumRegister(4)\n",
    "cr = ClassicalRegister(1)\n",
    "\n",
    "q0, q1, q2, q3 = qr\n",
    "\n",
    "# To encode a 1. Change them to test the other encodings.\n",
    "encoder = QuantumCircuit(qr, cr)\n",
    "encoder.x(q0)\n",
    "encoder.x(q1)\n",
    "encoder.x(q2)\n",
    "\n",
    "decoder = create_decoder(qr, cr)\n",
    "qc1 = encoder.compose(decoder)\n",
    "\n",
    "qc1.draw(\"mpl\")"
   ]
  },
  {
   "cell_type": "markdown",
   "id": "c40055d3-dff3-4ec1-846e-54b6c9d76d31",
   "metadata": {
    "slideshow": {
     "slide_type": "-"
    }
   },
   "source": [
    "Cuando creas que tu decodificador funciona correctamente, puedes probarlo con el siguiente código:"
   ]
  },
  {
   "cell_type": "code",
   "execution_count": null,
   "id": "0fca614b-2fd3-43b6-86f9-64c19818dcd0",
   "metadata": {
    "slideshow": {
     "slide_type": "-"
    },
    "tags": []
   },
   "outputs": [],
   "source": [
    "# Submit your circuit\n",
    "from qc_grader.challenges.spring_2023 import grade_ex4a\n",
    "\n",
    "grade_ex4a(create_decoder(qr, cr))"
   ]
  },
  {
   "cell_type": "markdown",
   "id": "b4446ede",
   "metadata": {
    "slideshow": {
     "slide_type": "-"
    }
   },
   "source": [
    "# El Caso Cuántico\n",
    "\n",
    "## ¿Qué hace que el Caso Cuántico sea complicado?\n",
    "\n",
    "En el caso clásico, tener tales códigos de corrección de errores es relativamente simple, ya que podemos repetir el bit varias veces.\n",
    "\n",
    "Por supuesto, también existen otros códigos, que son más complejos, pero al final todos los códigos tendrán algún tipo de redundancia al repetir información.\n",
    "\n",
    "En el caso cuántico realmente no podemos hacer eso, por 2 razones principales.\n",
    "\n",
    "1. No podemos copiar qubits, lo cual se establece en el teorema de la no clonación.\n",
    "\n",
    "2. Medir un qubit hará que su estado colapse, lo que significa que debemos tener cuidado al trabajar con qubits entrelazados\n",
    "\n",
    "\n",
    "Esto suena un poco desalentador, pero aún podemos hacer la corrección de errores.\n",
    "\n",
    "\n",
    "Sin embargo, no solo necesitaremos varios qubits para almacenar la información (similar a la anterior para repetirla), sino que también necesitaremos algunos qubits ancilla adicionales, que usamos como los llamados *estabilizadores*.\n",
    "\n",
    "La idea es que estas ancillas no estén entrelazadas con los qubits que almacenan el estado, sin embargo, aún nos dan pistas sobre posibles errores al medir.\n",
    "\n",
    "\n",
    "Usaremos dos conjuntos de qubits, uno para la codificación y otro para los estabilizadores."
   ]
  },
  {
   "cell_type": "markdown",
   "id": "d832646a",
   "metadata": {
    "slideshow": {
     "slide_type": "-"
    },
    "tags": []
   },
   "source": [
    "# Implementar un Código de Repetición Bit-flip\n",
    "\n",
    "Preparemos todo de tal manera que podamos comenzar con la implementación de la corrección de errores."
   ]
  },
  {
   "cell_type": "code",
   "execution_count": null,
   "id": "eed2bf5f",
   "metadata": {
    "slideshow": {
     "slide_type": "-"
    },
    "tags": []
   },
   "outputs": [],
   "source": [
    "# Setup a base quantum circuit for our experiments\n",
    "encoding = QuantumRegister(3)\n",
    "stabilizer = QuantumRegister(2)\n",
    "\n",
    "encoding_q0, encoding_q1, encoding_q2 = encoding\n",
    "stabilizer_q0, stabilizer_q1 = stabilizer\n",
    "\n",
    "# Results of the encoding\n",
    "results = ClassicalRegister(3)\n",
    "\n",
    "result_b0, result_b1, result_b2 = results\n",
    "\n",
    "# For measuring the stabilizer\n",
    "syndrome = ClassicalRegister(2)\n",
    "\n",
    "syndrome_b0, syndrome_b1 = syndrome\n",
    "\n",
    "# The actual qubit which is encoded\n",
    "state = encoding[0]\n",
    "\n",
    "# The ancillas used for encoding the state\n",
    "ancillas = encoding[1:]\n",
    "\n",
    "\n",
    "# Initializing\n",
    "def initialize_circuit() -> QuantumCircuit:\n",
    "    return QuantumCircuit(encoding, stabilizer, results, syndrome)"
   ]
  },
  {
   "cell_type": "markdown",
   "id": "52b2eb0e-26fa-4ada-b7e2-2ba17b2bbeee",
   "metadata": {
    "slideshow": {
     "slide_type": "-"
    },
    "tags": []
   },
   "source": [
    "## Inicializar el Qubit\n",
    "\n",
    "Para proteger un estado cuántico de errores, primero debemos prepararlo.\n",
    "En general podemos preparar el estado $$|\\Psi_0\\rangle \\rightarrow |\\Psi_1\\rangle = (\\alpha |0\\rangle + \\beta |1\\rangle)$$\n",
    "En el siguiente circuito preparamos el estado físico $$|\\Psi_1\\rangle = |1\\rangle$$"
   ]
  },
  {
   "cell_type": "code",
   "execution_count": null,
   "id": "0aabe057",
   "metadata": {
    "slideshow": {
     "slide_type": "-"
    },
    "tags": []
   },
   "outputs": [],
   "source": [
    "initial_state = initialize_circuit()\n",
    "\n",
    "initial_state.x(encoding[0])\n",
    "\n",
    "initial_state.draw(output=\"mpl\")"
   ]
  },
  {
   "cell_type": "markdown",
   "id": "190ee9ca",
   "metadata": {
    "slideshow": {
     "slide_type": "-"
    }
   },
   "source": [
    "## Codificar el Qubit\n",
    "\n",
    "Similar al caso clásico, queremos usar la repetición para almacenar el qubit inicial.\n",
    "\n",
    "Entonces, lo que queremos hacer es asignar nuestro estado $|\\Psi_1\\rangle = (\\alpha |0\\rangle + \\beta |1\\rangle)$ usando nuestra codificación $U_{en}|\\Psi_0\\rangle$ al estado $ (\\alpha |000\\rangle + \\beta |111\\rangle)$.\n",
    "\n",
    "Este estado es un estado entrelazado, y cuando se mide 1 qubit, también se conoce el resultado de los otros 2 qubits.\n",
    "\n",
    "Por lo tanto, usaremos CX para crear este estado entrelazado de 3 qubits a partir del estado inicial de 1 qubit:"
   ]
  },
  {
   "cell_type": "code",
   "execution_count": null,
   "id": "b6b23a0e",
   "metadata": {
    "slideshow": {
     "slide_type": "-"
    },
    "tags": []
   },
   "outputs": [],
   "source": [
    "# Encoding using bit flip code\n",
    "def encode_bit_flip(qc, state, ancillas):\n",
    "    qc.barrier(state, *ancillas)\n",
    "    for ancilla in ancillas:\n",
    "        qc.cx(state, ancilla)\n",
    "    return qc\n",
    "\n",
    "\n",
    "# The circuit encoding our qubit\n",
    "encoding_circuit = encode_bit_flip(initialize_circuit(), state, ancillas)\n",
    "\n",
    "# The circuit including all parts so far\n",
    "complete_circuit = initial_state.compose(encoding_circuit)\n",
    "complete_circuit.draw(output=\"mpl\")"
   ]
  },
  {
   "cell_type": "markdown",
   "id": "6df43ed0",
   "metadata": {
    "slideshow": {
     "slide_type": "-"
    }
   },
   "source": [
    "## Preparar un Circuito de Decodificación\n",
    "\n",
    "Para decodificar el estado original, debemos construir un decodificador que haga lo contrario, por lo que un decodificador $U_{de}|\\Psi_0\\rangle$ que asigna $ (\\alpha |000\\rangle + \\beta |111\\rangle)$. a $|\\Psi_1\\rangle = (\\alpha |0\\rangle + \\beta |1\\rangle)$\n",
    "\n",
    "Como hace exactamente lo contrario, podemos invertir nuestro codificador:\n",
    "\n",
    "$U_{de} = U_{en}^\\dagger$"
   ]
  },
  {
   "cell_type": "code",
   "execution_count": null,
   "id": "762fcd54",
   "metadata": {
    "slideshow": {
     "slide_type": "-"
    },
    "tags": []
   },
   "outputs": [],
   "source": [
    "# Decoding (doing the reverse)\n",
    "def decode_bit_flip(qc, state, ancillas):\n",
    "    qc.barrier(state, *ancillas)\n",
    "    for ancilla in ancillas:\n",
    "        qc.cx(state, ancilla)\n",
    "    return qc\n",
    "\n",
    "\n",
    "decoding_circuit = decode_bit_flip(initialize_circuit(), state, ancillas)\n",
    "\n",
    "decoding_circuit.draw(output=\"mpl\")"
   ]
  },
  {
   "cell_type": "markdown",
   "id": "d4de93cd",
   "metadata": {
    "slideshow": {
     "slide_type": "-"
    }
   },
   "source": [
    "## Medir Estabilizadores\n",
    "\n",
    "Hemos visto anteriormente que podemos entrelazar un qubit $A$ con otro qubit $B$ usando un CX con $A$ como objetivo y $B$ como fuente (si $B$ ya estaba en superposición o entrelazado).\n",
    "\n",
    "Luego, podemos desentrelazarlo nuevamente usando otro CX en $A$ como objetivo con $B$ como fuente (u otro qubit que está completamente entrelazado y correlacionado con $A$).\n",
    "\n",
    "\n",
    "Dado que queremos medir nuestros estabilizadores para obtener una indicación de los posibles errores que se produjeron, es importante que NO estén entrelazados con los qubits que codifican el estado.\n",
    "\n",
    "\n",
    "Conociendo este hecho, está claro que necesitamos un número par de compuertas CX aplicadas a cada estabilizador. Además, para que el estabilizador sea útil, medirlo debe decirnos si ocurrió un error de cambio de bit y en cuál de los 3 qubits de codificación ocurrió."
   ]
  },
  {
   "cell_type": "markdown",
   "id": "19958975",
   "metadata": {},
   "source": [
    "### Ejercicio 2\n",
    "\n",
    "Calcular bits de síndrome, de modo que puedan medirse para detectar errores de cambio de bit único. Hemos incluido un código que medirá los bits del síndrome y restablecerá los qubits del estabilizador al estado `0`.\n",
    "\n",
    "Hay diferentes formas de hacer esto, así que obtengamos un estabilizador con la codificación más simple posible:\n",
    "\n",
    "`00` -> No ocurrió ningún error\n",
    "\n",
    "`01` -> Ocurrió un error en el qubit 0 (el primer qubit)\n",
    "\n",
    "`10` -> Ocurrió un error en el qubit 1 (el segundo qubit)\n",
    "\n",
    "`11` -> Ocurrió un error en el qubit 2 (el tercer qubit)\n",
    "\n",
    "\n",
    "*Hint: Los 3 qubits de codificación deben estar perfectamente correlacionados, si no lo están, en uno de ellos ocurrió un error de cambio de bit (bit flip).*"
   ]
  },
  {
   "cell_type": "code",
   "execution_count": null,
   "id": "745a1c3a",
   "metadata": {
    "slideshow": {
     "slide_type": "-"
    },
    "tags": []
   },
   "outputs": [],
   "source": [
    "# Add functions such that the classical bits can be used to see which qubit is flipped in the case a single qubit is flipped.\n",
    "# Use 2 classical bits for it.\n",
    "# 0 = 00 = no qubit flipped\n",
    "# 1 = 01 = first qubit (qubit 0) flipped\n",
    "# 2 = 10 second qubit (qubit 1) flipped\n",
    "# 3 = 11 = third qubit (qubit 2) flipped\n",
    "def measure_syndrome_bit(qc, encoding, stabilizer):\n",
    "    qc.barrier()\n",
    "    encoding_q0, encoding_q1, encoding_q2 = encoding\n",
    "    stabilizer_q0, stabilizer_q1 = stabilizer\n",
    "\n",
    "    ####### your code goes here #######\n",
    "\n",
    "    ####### don't edit the code below #######\n",
    "    qc.barrier()\n",
    "    qc.measure(stabilizer, syndrome)\n",
    "    with qc.if_test((syndrome_b0, 1)):\n",
    "        qc.x(stabilizer_q0)\n",
    "    with qc.if_test((syndrome_b1, 1)):\n",
    "        qc.x(stabilizer_q1)\n",
    "\n",
    "    return qc\n",
    "\n",
    "\n",
    "syndrome_circuit = measure_syndrome_bit(initialize_circuit(), encoding, stabilizer)\n",
    "\n",
    "complete_circuit = initial_state.compose(encoding_circuit).compose(syndrome_circuit)\n",
    "complete_circuit.draw(\"mpl\")"
   ]
  },
  {
   "cell_type": "code",
   "execution_count": null,
   "id": "1f0272fe-43f3-4d5b-b755-58eff1a77f53",
   "metadata": {
    "slideshow": {
     "slide_type": "-"
    },
    "tags": []
   },
   "outputs": [],
   "source": [
    "# Submit your circuit\n",
    "from qc_grader.challenges.spring_2023 import grade_ex4b\n",
    "\n",
    "grade_ex4b(complete_circuit)"
   ]
  },
  {
   "cell_type": "markdown",
   "id": "08fb0e0e",
   "metadata": {
    "slideshow": {
     "slide_type": "-"
    },
    "tags": []
   },
   "source": [
    "## Corrección de Errores\n",
    "\n",
    "Ahora podemos construir estabilizadores y al medirlos obtenemos los síndromes de error. Por supuesto, no solo queremos obtener indicaciones si se produjo un error, sino que también queremos poder corregir los errores.\n",
    "\n",
    "Ahora usaremos circuitos dinámicos para usar nuestras mediciones de síndrome con el fin de corregir posibles errores. Similar al caso clásico, solo podemos corregir como máximo 1 error, si quisiéramos corregir más, necesitaríamos un código más largo con 5 qubits de codificación o más.\n",
    "\n",
    "Dado que elegimos nuestras medidas de síndrome anteriores de manera inteligente, ahora debería ser bastante fácil corregir los errores, ya que sabemos exactamente cuál de los qubits está invertido, en el caso de un solo error."
   ]
  },
  {
   "cell_type": "markdown",
   "id": "e4fafeee",
   "metadata": {},
   "source": [
    "### Ejercicio 3\n",
    "\n",
    "Corregir los errores según los síndromes medidos."
   ]
  },
  {
   "cell_type": "code",
   "execution_count": null,
   "id": "766344ee",
   "metadata": {
    "slideshow": {
     "slide_type": "-"
    },
    "tags": []
   },
   "outputs": [],
   "source": [
    "# Correct the errors, remember how we encoded the errors above!\n",
    "def apply_correction_bit(qc, encoding, syndrome):\n",
    "    qc.barrier()\n",
    "    encoding_q0, encoding_q1, encoding_q2 = encoding\n",
    "\n",
    "    ####### your code goes here #######\n",
    "\n",
    "    return qc\n",
    "\n",
    "\n",
    "correction_circuit = apply_correction_bit(initialize_circuit(), encoding, syndrome)\n",
    "complete_circuit = (\n",
    "    initial_state.compose(encoding_circuit)\n",
    "    .compose(syndrome_circuit)\n",
    "    .compose(correction_circuit)\n",
    ")\n",
    "complete_circuit.draw(output=\"mpl\")"
   ]
  },
  {
   "cell_type": "markdown",
   "id": "951cb84e-c526-4f0b-900e-461ec8833b58",
   "metadata": {
    "slideshow": {
     "slide_type": "-"
    },
    "tags": []
   },
   "source": [
    "La única parte que falta ahora es medir los qubits de codificación. Aplicaremos el circuito decodificador antes de medir para recuperar el estado inicial.\n",
    "\n",
    "Si todo funciona perfectamente sin errores, sería suficiente medir solo nuestro qubit inicial, sin embargo, como no siempre es así, medimos todos los qubits para ver si sucedió algo malo."
   ]
  },
  {
   "cell_type": "code",
   "execution_count": null,
   "id": "f023afd0",
   "metadata": {
    "slideshow": {
     "slide_type": "-"
    },
    "tags": []
   },
   "outputs": [],
   "source": [
    "def apply_final_readout(qc, encoding, results):\n",
    "    qc.barrier(encoding)\n",
    "    qc.measure(encoding, results)\n",
    "    return qc\n",
    "\n",
    "\n",
    "measuring_circuit = apply_final_readout(initialize_circuit(), encoding, results)\n",
    "complete_circuit = (\n",
    "    initial_state.compose(encoding_circuit)\n",
    "    .compose(syndrome_circuit)\n",
    "    .compose(correction_circuit)\n",
    "    .compose(decoding_circuit)\n",
    "    .compose(measuring_circuit)\n",
    ")\n",
    "complete_circuit.draw(output=\"mpl\")"
   ]
  },
  {
   "cell_type": "code",
   "execution_count": null,
   "id": "e05fb14d",
   "metadata": {},
   "outputs": [],
   "source": [
    "# Submit your circuit\n",
    "from qc_grader.challenges.spring_2023 import grade_ex4c\n",
    "\n",
    "grade_ex4c(complete_circuit)"
   ]
  },
  {
   "cell_type": "markdown",
   "id": "f5b9e670-658a-4e25-84cd-7bcbbe8db364",
   "metadata": {
    "slideshow": {
     "slide_type": "-"
    }
   },
   "source": [
    "## Listo para Pruebas\n",
    "\n",
    "Ahora que tenemos todo, podemos probar si obtenemos el resultado correcto.\n",
    "\n",
    "Haremos una primera prueba sin ningún error para asegurarnos de que la implementación fue correcta:"
   ]
  },
  {
   "cell_type": "code",
   "execution_count": null,
   "id": "048a9595-3b32-4f2b-8d37-b1d70870e34d",
   "metadata": {},
   "outputs": [],
   "source": [
    "# We first choose a simulator as our backend without any noise\n",
    "backend = Aer.get_backend(\"qasm_simulator\")\n",
    "# We run the simulation and get the counts\n",
    "counts = backend.run(complete_circuit, shots=1000).result().get_counts()\n",
    "# And now we plot a histogram to see the possible outcomes and corresponding probabilities\n",
    "plot_histogram(counts)"
   ]
  },
  {
   "cell_type": "markdown",
   "id": "991e7fef-4da3-4294-9e2d-1601dc789550",
   "metadata": {
    "slideshow": {
     "slide_type": "-"
    }
   },
   "source": [
    "Podemos ver que obtenemos los resultados correctos (debería dar `00 001`, ya que inicializamos nuestro qubit inicial en el estado 1).\n",
    "\n",
    "Como puedes ver, los otros qubits utilizados en la codificación están en el estado `0` después del proceso, como se esperaba.\n",
    "\n",
    "\n",
    "Ahora sabemos que nuestro circuito funciona sin ruido, ¡así que agreguemos algo de ruido!\n",
    "\n",
    "Para esto, tomamos un simulador que simula el backend de ibm_manila, incluido el ruido:\n",
    "\n",
    "*Nota: Elegimos este backend aquí, ya que tiene una disposición (layout) simple. Echaremos un vistazo más de cerca a las disposiciones más abajo.*"
   ]
  },
  {
   "cell_type": "code",
   "execution_count": null,
   "id": "0aabb821-8a40-404a-88c7-9d598917e227",
   "metadata": {},
   "outputs": [],
   "source": [
    "# We choose a simulator for Manila a 5 qubit device, includes errors\n",
    "backend = FakeManilaV2()\n",
    "# We run the simulation and get the counts\n",
    "counts = backend.run(complete_circuit, shots=1000).result().get_counts()\n",
    "# We plot a histogram to see the possible outcomes and corresponding probabilities\n",
    "plot_histogram(counts)"
   ]
  },
  {
   "cell_type": "markdown",
   "id": "b367a774-e01a-4d99-ae0d-c789da438657",
   "metadata": {
    "slideshow": {
     "slide_type": "-"
    }
   },
   "source": [
    "Obtendremos algunos resultados incorrectos, pero en general, la mayoría de los resultados son correctos. Esta es una buena señal y significa que incluso con ruido nuestro código puede funcionar.\n",
    "\n",
    "Aún así, esto no nos dice qué tan bueno es nuestro esquema, ya que no tenemos una comparación con el caso sin la corrección de errores, así que echemos un vistazo a qué tan buenos seríamos sin los pasos de corrección de errores:"
   ]
  },
  {
   "cell_type": "code",
   "execution_count": null,
   "id": "3b50cd3b-46b3-4793-87ca-a1a6dd34de51",
   "metadata": {},
   "outputs": [],
   "source": [
    "qc3 = (\n",
    "    initial_state.compose(encoding_circuit)\n",
    "    .compose(syndrome_circuit)\n",
    "    .compose(decoding_circuit)\n",
    "    .compose(measuring_circuit)\n",
    ")\n",
    "\n",
    "\n",
    "# We choose a again FakeManila\n",
    "backend = FakeManilaV2()\n",
    "# let the simulation run\n",
    "counts = backend.run(qc3, shots=1000).result().get_counts()\n",
    "# and plot our results\n",
    "plot_histogram(counts)"
   ]
  },
  {
   "cell_type": "markdown",
   "id": "81d87aa5-c38c-48e9-8959-5deb27040f88",
   "metadata": {
    "slideshow": {
     "slide_type": "-"
    }
   },
   "source": [
    "Podemos ver que los resultados son casi iguales, o incluso ligeramente peores, ya que no usamos los qubits de codificación después de crearlos.\n",
    "\n",
    "Cuando usáramos estos qubits para cálculos, normalmente se introducirían algunos errores, este no es el caso aquí.\n",
    "\n",
    "Por otro lado, la parte correctora de errores puede introducir errores, ya que también consiste en operaciones que toman tiempo.\n",
    "\n",
    "Para fines de prueba, construimos un circuito que introduce algunos errores, pero de forma controlada:\n",
    "\n",
    "- Queremos introducir errores de cambio de bit (bit flip), ya que eso es lo que estamos corrigiendo\n",
    "\n",
    "- Queremos que los errores en los 3 qubits de codificación sean independientes entre sí\n",
    "\n",
    "- Queremos que podamos elegir qué tan alta es la probabilidad de que se introduzcan errores\n",
    "\n",
    "- Queremos tener nuestra entrada en porcentaje, y la salida debe ser un circuito que genere errores con esa probabilidad."
   ]
  },
  {
   "cell_type": "markdown",
   "id": "fc0bf2cb",
   "metadata": {},
   "source": [
    "### Ejercicio 4\n",
    "\n",
    "Crea un circuito para agregar ruido como se definió anteriormente."
   ]
  },
  {
   "cell_type": "code",
   "execution_count": null,
   "id": "6f733f60-384f-4b91-a4dc-da7d3685c0d2",
   "metadata": {
    "slideshow": {
     "slide_type": "-"
    },
    "tags": []
   },
   "outputs": [],
   "source": [
    "# Add some errors as defined above (only add errors to the encoding qubits)\n",
    "def make_some_noise(qc, encoding, syndrome, error_percentage):\n",
    "    encoding_q0, encoding_q1, encoding_q2 = encoding\n",
    "    syndrome_b0, syndrome_b1 = syndrome\n",
    "\n",
    "    ####### your code goes here #######\n",
    "\n",
    "    return qc\n",
    "\n",
    "\n",
    "# Constructing a circuit with 10% error rate (for each of the encoding qubit)\n",
    "noise_circuit = make_some_noise(initialize_circuit(), encoding, syndrome, 10)\n",
    "noise_circuit.draw(output=\"mpl\")"
   ]
  },
  {
   "cell_type": "markdown",
   "id": "9de72551-34a4-4a29-8c31-ee9a07b86e33",
   "metadata": {
    "slideshow": {
     "slide_type": "-"
    }
   },
   "source": [
    "Usa el código a continuación para probar tu función y crea un circuito que presente una tasa de error del 10%."
   ]
  },
  {
   "cell_type": "code",
   "execution_count": null,
   "id": "2f8bcbbb-7c84-401e-8f45-4f211edfd1e9",
   "metadata": {
    "slideshow": {
     "slide_type": "-"
    },
    "tags": []
   },
   "outputs": [],
   "source": [
    "# Submit your circuit\n",
    "from qc_grader.challenges.spring_2023 import grade_ex4d\n",
    "\n",
    "grade_ex4d(noise_circuit)"
   ]
  },
  {
   "cell_type": "markdown",
   "id": "97266500-1121-4e5a-a11c-262fc4f68b40",
   "metadata": {
    "slideshow": {
     "slide_type": "-"
    }
   },
   "source": [
    "Ahora podemos probar qué tan bien funciona nuestra corrección de errores, cuando introducimos errores con una probabilidad del 10%:"
   ]
  },
  {
   "cell_type": "code",
   "execution_count": null,
   "id": "37120ccc-33c6-4d54-b960-ad1e4d19dc64",
   "metadata": {},
   "outputs": [],
   "source": [
    "qc4 = (\n",
    "    initial_state.compose(encoding_circuit)\n",
    "    .compose(noise_circuit)\n",
    "    .compose(syndrome_circuit)\n",
    "    .compose(correction_circuit)\n",
    "    .compose(decoding_circuit)\n",
    "    .compose(measuring_circuit)\n",
    ")\n",
    "\n",
    "\n",
    "# We choose again FakeManila\n",
    "backend = FakeManilaV2()\n",
    "# let the simulation run\n",
    "counts = backend.run(qc4, shots=1000).result().get_counts()\n",
    "# and plot our results\n",
    "plot_histogram(counts)"
   ]
  },
  {
   "cell_type": "markdown",
   "id": "c90c1616-e079-4c1f-bb57-fe5fc28d04e4",
   "metadata": {
    "slideshow": {
     "slide_type": "-"
    }
   },
   "source": [
    "Podemos ver que nuestros resultados empeoraron, pero todavía obtenemos `001` en la mayoría de los casos.\n",
    "\n",
    "Ahora hemos creado con éxito nuestro primer código de corrección de errores e incluso lo hemos probado.\n",
    "\n",
    "\n",
    "Nuestro tipo de corrección de errores, por supuesto, solo corrige errores de cambio de bit, si también queremos corregir errores de fase, necesitaremos un esquema diferente y más qubits.\n",
    "\n",
    "Si deseas obtener más información sobre la corrección de errores, también puedes consultar:\n",
    "\n",
    "https://learn.qiskit.org/course/ch-labs/lab-10-quantum-error-correction"
   ]
  },
  {
   "cell_type": "markdown",
   "id": "28cdcebe-0915-4243-a116-f3a2c826b2ae",
   "metadata": {
    "slideshow": {
     "slide_type": "-"
    }
   },
   "source": [
    "# Panorama Breve: Corrección de Errores y Disposición de Hardware\n",
    "\n",
    "Arriba hemos utilizado un simulador, que ya simula el hardware, pero si queremos ejecutar algo más complejo en un dispositivo real, también tendremos que tener en cuenta ls disposición (layout).\n",
    "\n",
    "La disposición del dispositivo es importante, ya que no todos los qubits están conectados entre sí, como en el caso ideal, así que tenemos que pensar en eso, de lo contrario, se usarán muchas operaciones de intercambio, que consisten en 3 operaciones cx, que por supuesto también puede introducir errores.\n",
    "\n",
    "\n",
    "Supongamos que tenemos la siguiente línea de qubits en nuestro dispositivo real\n",
    "\n",
    "    0 - 1 - 2 - 3 - 4 \n",
    "\n",
    "¿Cómo se asignarían estos qubits físicos a los qubits lógicos que usamos anteriormente en nuestro circuito de corrección de errores?\n",
    "\n",
    "Suponemos aquí que la conexión inicial de los qubits (entrelazándolos) es \"más fácil\" que las partes de corrección de errores, ya que es posible que queramos repetir la parte de corrección de errores varias veces, por lo que solo considerando la parte de corrección de errores, ¿cómo asignarías estos qubits?\n",
    "\n",
    "\n",
    "\n",
    "Con el siguiente código, puedes ver cómo diferentes disposiciones pueden conducir a diferentes circuitos.\n"
   ]
  },
  {
   "cell_type": "code",
   "execution_count": null,
   "id": "aa2aa857-e78f-4e1a-8d59-17e6fc889ddd",
   "metadata": {
    "slideshow": {
     "slide_type": "-"
    },
    "tags": []
   },
   "outputs": [],
   "source": [
    "from qiskit.circuit import IfElseOp\n",
    "\n",
    "# Fill in a better layout to test!!\n",
    "initial_layout = [0, 1, 2, 3, 4]\n",
    "\n",
    "# We use Manila as our potential backend, since it has the wanted layout\n",
    "backend = FakeManilaV2()\n",
    "\n",
    "# Temporary workaround for fake backends. For real backends this is not required.\n",
    "backend.target.add_instruction(IfElseOp, name=\"if_else\")\n",
    "\n",
    "# And now we transpile the circuit for the backend.\n",
    "qc_transpiled = transpile(complete_circuit, backend, initial_layout=initial_layout)\n",
    "\n",
    "qc_transpiled.draw()"
   ]
  },
  {
   "cell_type": "markdown",
   "id": "3b331381-37d8-44d0-a653-6a2f0e59599e",
   "metadata": {
    "slideshow": {
     "slide_type": "-"
    }
   },
   "source": [
    "Ninguna disposición es perfecta, especialmente porque al principio para entrelazar los 3 qubits necesitamos conexiones diferentes que para la corrección de errores posterior.\n",
    "\n",
    "\n",
    "\n",
    "La disposición [0, 4, 2, 1, 3] podría detectarse, ya que entonces tenemos conexiones directas para todas las CX necesarios para la corrección, y esa parte se ejecuta potencialmente varias veces.\n",
    "\n",
    "También podríamos pensar en cómo podríamos hacer mejor la configuración inicial (entrelazado) con estos qubits, ya que también podríamos usar los qubits que se usan como estabilizadores primero para construir el circuito.\n",
    "\n",
    "\n",
    "\n",
    "Para mostrarte que también puede ser bastante diferente, veamos la siguiente disposición, ¿cómo mapearías los qubits?\n",
    "\n",
    "\n",
    "    2 - 3 - 4 \n",
    "            |\n",
    "           15\n",
    "            |\n",
    "           22\n",
    "\n",
    "Similar al anterior, la disposición [2, 4, 22, 3, 15] tendría sentido, ya que entonces tenemos nuevamente conexiones directas para todos los CX necesarios\n",
    "\n",
    "Podemos ver que realmente no hay una diferencia entre estas disposiciones, ya que ambas disposiciones son una línea simple. Sin embargo, si observas el backend IBM_Quito, puedes ver que también hay otros dispositivos de 5 qubit. Elegimos Manila porque su disposición es más adecuada para este ejercicio.\n",
    "\n",
    "\n",
    "¡Estos pequeños ejemplos deberían mostrar que en el hardware real debes cuidar la disposición de los qubits!\n",
    "\n",
    "**¡Esto será especialmente importante en el ejercicio extra!**"
   ]
  }
 ],
 "metadata": {
  "celltoolbar": "Slideshow",
  "kernelspec": {
   "display_name": "Python 3 (ipykernel)",
   "language": "python",
   "name": "python3"
  },
  "language_info": {
   "codemirror_mode": {
    "name": "ipython",
    "version": 3
   },
   "file_extension": ".py",
   "mimetype": "text/x-python",
   "name": "python",
   "nbconvert_exporter": "python",
   "pygments_lexer": "ipython3",
   "version": "3.10.8"
  },
  "vscode": {
   "interpreter": {
    "hash": "31f2aee4e71d21fbe5cf8b01ff0e069b9275f58929596ceb00d14d90e3e16cd6"
   }
  },
  "widgets": {
   "application/vnd.jupyter.widget-state+json": {
    "state": {},
    "version_major": 2,
    "version_minor": 0
   }
  }
 },
 "nbformat": 4,
 "nbformat_minor": 5
}
