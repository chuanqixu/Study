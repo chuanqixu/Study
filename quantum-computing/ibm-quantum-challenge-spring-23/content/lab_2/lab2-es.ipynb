{
 "cells": [
  {
   "cell_type": "markdown",
   "id": "0ac9dd0b-210c-470e-8313-5cf7f7c57b65",
   "metadata": {},
   "source": [
    "# Laboratorio 2: Teleportación cuántica\n",
    "\n",
    "Bienvenido a este laboratorio sobre teleportación cuántica en el que resolverás un problema que han tenido Alice y Bob. Relájate, ¡no es un problema de relación! Alice posee un qubit en un estado desconocido $\\lvert \\psi \\rangle$ y desea transferir este estado cuántico a Bob. Sin embargo, están muy separados y carecen de medios para transferir información cuántica directamente, solo información clásica. ¿Es posible lograr su objetivo?\n",
    "\n",
    "Resulta que si Alice y Bob comparten un par de qubits entrelazados, ella puede transferir su estado de qubit a Bob enviando dos bits de información clásica. Este proceso se conoce como teleportación porque, al final, Bob poseerá |ψ⟩ y Alice ya no lo tendrá."
   ]
  },
  {
   "cell_type": "markdown",
   "id": "11a966b2-a7c1-4584-87b2-1b8e4277f997",
   "metadata": {},
   "source": [
    "## Antecedentes\n",
    "\n",
    "La teleportación cuántica es un protocolo que permite la transferencia de información cuántica de un qubit a otro mediante entrelazamiento y comunicación clásica. Fue propuesto por Charles Bennett, Gilles Brassard, Claude Crépeau, Richard Jozsa, Asher Peres y William Wootters en 1993. El proceso no transmite el qubit en sí, sino que transfiere el estado cuántico del qubit de origen al qubit de destino.\n",
    "\n",
    "El protocolo requiere tres qubits:\n",
    "\n",
    "1. El qubit a teleportar (qubit de Alice)\n",
    "2. La mitad de un par de qubits entrelazados (el segundo qubit de Alice)\n",
    "3. La otra mitad del par entrelazado (qubit de Bob)\n",
    "\n",
    "El protocolo se puede resumir en los siguientes pasos:\n",
    "\n",
    "1. Crear un par entrelazado de qubits (par de Bell) compartido entre Alice y Bob.\n",
    "2. Alice realiza una medición en la base de Bell en sus dos qubits.\n",
    "3. Alice envía los resultados clásicos de su medición a Bob.\n",
    "4. Bob aplica compuertas cuánticas apropiadas basadas en los resultados de medición de Alice para obtener el estado teletportado."
   ]
  },
  {
   "cell_type": "markdown",
   "id": "a26fb942-ca66-4bea-85f5-f8f13d013d5e",
   "metadata": {},
   "source": [
    "## Implementación\n",
    "\n",
    "Para transferir un bit cuántico, Alice y Bob necesitan la ayuda de un tercero que les proporcione un par de qubits entrelazados. A continuación, Alice realiza ciertas operaciones en su qubit y comparte los resultados con Bob a través de un canal de comunicación clásico. Finalmente, Bob realiza una serie de operaciones por su parte para obtener con éxito el qubit de Alice. Ahora, profundicemos en cada uno de estos pasos."
   ]
  },
  {
   "cell_type": "markdown",
   "id": "71cdf58d-0d4d-43f0-b427-3a3ebca842f5",
   "metadata": {
    "tags": []
   },
   "source": [
    "Nuestro circuito cuántico constará de 3 qubits y 3 bits clásicos. Los qubits se nombrarán de la siguiente manera:\n",
    "- $s$: El qubit \"fuente\" que contiene el estado $\\lvert \\psi \\rangle$ que Alice desea transmitir a Bob.\n",
    "- $a$: El qubit que inicialmente almacenará la mitad de Alice del par de Bell entrelazado.\n",
    "- $b$: el qubit que inicialmente almacenará la mitad de Bob del par de Bell entrelazado.\n",
    "\n",
    "El protocolo de teleportación en sí requiere 2 bits clásicos, e incluimos un tercero para medir el estado final de Bob. Los bits clásicos se denominarán de la siguiente manera:\n",
    "- $c0$: El bit clásico que utiliza Alice para medir $a$.\n",
    "- $c1$: El bit clásico que usa Alice para medir $s$.\n",
    "- $c2$: El bit clásico que usa Bob para medir $b$."
   ]
  },
  {
   "cell_type": "markdown",
   "id": "bad695dc",
   "metadata": {},
   "source": [
    "### Ejercicio 1\n",
    "\n",
    "Utiliza dos qubits para generar un estado de par de Bell entrelazado $\\frac{\\lvert 00 \\rangle + \\lvert 11 \\rangle}{\\sqrt{2}}$. El qubit 𝑎 se asigna a Alice, mientras que el qubit 𝑏 se asigna a Bob.\n",
    "\n",
    "*Hint*: Este estado se puede generar utilizando una compuerta Hadamard y una compuerta CNOT."
   ]
  },
  {
   "cell_type": "code",
   "execution_count": null,
   "id": "d9a9810a-8ec5-4e0e-823d-6865e810b34d",
   "metadata": {
    "tags": []
   },
   "outputs": [],
   "source": [
    "from qiskit import QuantumCircuit, QuantumRegister, ClassicalRegister\n",
    "from qiskit.circuit import Qubit, Clbit\n",
    "\n",
    "\n",
    "def create_bell_pair(qr: QuantumRegister, cr: ClassicalRegister) -> QuantumCircuit:\n",
    "    \"\"\"Creates a bell pair between qubits a and b.\"\"\"\n",
    "    qc = QuantumCircuit(qr, cr)\n",
    "    # unpack qubits\n",
    "    # the first qubit is s but we won't be using it in this exercise\n",
    "    _, a, b = qr\n",
    "\n",
    "    ####### your code goes here #######\n",
    "\n",
    "    return qc"
   ]
  },
  {
   "cell_type": "code",
   "execution_count": null,
   "id": "7897fcca-e31a-4b44-9e19-16fbeb85a20d",
   "metadata": {
    "tags": []
   },
   "outputs": [],
   "source": [
    "qr = QuantumRegister(3, name=\"q\")\n",
    "cr = ClassicalRegister(3, name=\"c\")\n",
    "qc = create_bell_pair(qr, cr)\n",
    "\n",
    "qc.draw(\"mpl\")"
   ]
  },
  {
   "cell_type": "code",
   "execution_count": null,
   "id": "d00f07df-5245-47c7-858b-3ae6cbafc475",
   "metadata": {
    "tags": []
   },
   "outputs": [],
   "source": [
    "# Submit your circuit\n",
    "\n",
    "from qc_grader.challenges.spring_2023 import grade_ex2a\n",
    "\n",
    "grade_ex2a(qc)"
   ]
  },
  {
   "cell_type": "markdown",
   "id": "b6b5ec32-e8ae-4475-a0ea-5314acf49a4f",
   "metadata": {},
   "source": [
    "Supongamos que Alice tiene el qubit $a$ y Bob tiene el qubit $b$ una vez que se separan. Tal vez realmente estén teniendo un problema de relación 😉."
   ]
  },
  {
   "cell_type": "markdown",
   "id": "6ba11110",
   "metadata": {},
   "source": [
    "### Ejercicio 2\n",
    "\n",
    "Realiza los siguientes pasos del protocolo:\n",
    "1. Alice aplica una compuerta CNOT con $s$ (el qubit que contiene $\\lvert \\psi \\rangle$) como control y $a$ como objetivo.\n",
    "2. Alice aplica una compuerta Hadamard a $s$."
   ]
  },
  {
   "cell_type": "code",
   "execution_count": null,
   "id": "34d7bcd6-166b-4745-8ede-f8aa1872d434",
   "metadata": {
    "tags": []
   },
   "outputs": [],
   "source": [
    "def alice_gates(qr: QuantumRegister, cr: ClassicalRegister):\n",
    "    \"\"\"Creates Alices's gates\"\"\"\n",
    "    qc = create_bell_pair(qr, cr)\n",
    "    qc.barrier()  # Use barrier to separate steps\n",
    "    s, a, b = qr\n",
    "\n",
    "    ####### your code goes here #######\n",
    "\n",
    "    return qc"
   ]
  },
  {
   "cell_type": "code",
   "execution_count": null,
   "id": "3a5096db-1b92-45df-ac1b-52392356b543",
   "metadata": {
    "tags": []
   },
   "outputs": [],
   "source": [
    "qc = alice_gates(qr, cr)\n",
    "qc.draw(\"mpl\")"
   ]
  },
  {
   "cell_type": "code",
   "execution_count": null,
   "id": "66cead66-9c0e-4e7c-a196-efa456e6764b",
   "metadata": {
    "tags": []
   },
   "outputs": [],
   "source": [
    "# Submit your circuit\n",
    "\n",
    "from qc_grader.challenges.spring_2023 import grade_ex2b\n",
    "\n",
    "grade_ex2b(qc)"
   ]
  },
  {
   "cell_type": "markdown",
   "id": "2d45bf84-f32b-4dd9-8e73-b8ec920e8b39",
   "metadata": {
    "tags": []
   },
   "source": [
    "### Ejercicio 3\n",
    "\n",
    "En este paso, Alice realiza una medición en ambos qubits que posee y guarda los resultados en dos bits clásicos. Luego, le envía estos dos bits a Bob.\n",
    "\n",
    "Completa la siguiente celda de código para que Alice mida el qubit $a$ en el bit clásico $c0$ y el qubit $s$ en el bit clásico $c1$."
   ]
  },
  {
   "cell_type": "code",
   "execution_count": null,
   "id": "345bc52c-7745-46a3-90e7-a0e6a03604d5",
   "metadata": {
    "tags": []
   },
   "outputs": [],
   "source": [
    "def measure_and_send(qr: QuantumRegister, cr: ClassicalRegister):\n",
    "    \"\"\"Measures qubits a & b and 'sends' the results to Bob\"\"\"\n",
    "    qc = alice_gates(qr, cr)\n",
    "    qc.barrier()  # Use barrier to separate steps\n",
    "    s, a, b = qr\n",
    "    c0, c1, c2 = cr\n",
    "\n",
    "    ####### your code goes here #######\n",
    "\n",
    "    return qc"
   ]
  },
  {
   "cell_type": "code",
   "execution_count": null,
   "id": "b1c3ec5d-ce66-455c-a2fe-6cca03dd87f4",
   "metadata": {
    "tags": []
   },
   "outputs": [],
   "source": [
    "qc = measure_and_send(qr, cr)\n",
    "qc.draw(\"mpl\", cregbundle=False)"
   ]
  },
  {
   "cell_type": "code",
   "execution_count": null,
   "id": "76b0c0b2-ed71-4eb7-b4d9-9b725a22fccb",
   "metadata": {
    "tags": []
   },
   "outputs": [],
   "source": [
    "# Submit your circuit\n",
    "\n",
    "from qc_grader.challenges.spring_2023 import grade_ex2c\n",
    "\n",
    "grade_ex2c(qc)"
   ]
  },
  {
   "cell_type": "markdown",
   "id": "1fec0216-f312-430e-9940-0ab0ffd1beca",
   "metadata": {},
   "source": [
    "### Ejercicio 4\n",
    "\n",
    "En este paso, Bob, que ya posee el qubit $b$, agrega dinámicamente compuertas específicas al circuito en función del estado de los bits clásicos recibidos de Alice:\n",
    "\n",
    "- Si los bits son `00`, no se requiere ninguna acción.\n",
    "- Si son `01`, se debe aplicar una compuerta 𝑋 (también conocida como Pauli-X o compuerta bit-flip).\n",
    "- Para los bits `10`, se debe aplicar una compuerta 𝑍 (también conocida como Pauli-Z o compuerta de cambio de fase).\n",
    "- Por último, si los bits clásicos son `11`, se debe aplicar una compuerta combinada 𝑍𝑋, lo que implica aplicar las compuertas 𝑍 y 𝑋 en secuencia."
   ]
  },
  {
   "cell_type": "code",
   "execution_count": null,
   "id": "e61ddfa4-e536-46dd-b5a7-efe15f3ad617",
   "metadata": {
    "tags": []
   },
   "outputs": [],
   "source": [
    "def bob_gates(qr: QuantumRegister, cr: ClassicalRegister):\n",
    "    \"\"\"Uses qc.if_test to control which gates are dynamically added\"\"\"\n",
    "    qc = measure_and_send(qr, cr)\n",
    "    qc.barrier()  # Use barrier to separate steps\n",
    "    s, a, b = qr\n",
    "    c0, c1, c2 = cr\n",
    "\n",
    "    ####### your code goes here #######\n",
    "\n",
    "    return qc"
   ]
  },
  {
   "cell_type": "code",
   "execution_count": null,
   "id": "ff619db6-282a-450e-9b7c-38b2838cfdeb",
   "metadata": {
    "tags": []
   },
   "outputs": [],
   "source": [
    "qc = bob_gates(qr, cr)\n",
    "qc.draw(\"mpl\", cregbundle=False)"
   ]
  },
  {
   "cell_type": "code",
   "execution_count": null,
   "id": "8ab0270f-f909-4239-bb52-e36410497c21",
   "metadata": {
    "tags": []
   },
   "outputs": [],
   "source": [
    "# Submit your circuit\n",
    "\n",
    "from qc_grader.challenges.spring_2023 import grade_ex2d\n",
    "\n",
    "grade_ex2d(qc)"
   ]
  },
  {
   "cell_type": "markdown",
   "id": "74dc4ac1-d643-468e-a13c-509e2a12d77b",
   "metadata": {},
   "source": [
    "Ahora haremos que Bob mida su qubit en el bit clásico $c2$. Después de repetir todo el experimento varias veces, podemos recopilar estadísticas sobre los resultados de la medición para confirmar que la teleportación funcionó correctamente."
   ]
  },
  {
   "cell_type": "code",
   "execution_count": null,
   "id": "6223a197-48b8-4b7b-889c-4bf317793a27",
   "metadata": {
    "tags": []
   },
   "outputs": [],
   "source": [
    "teleportation_circuit = bob_gates(qr, cr)\n",
    "s, a, b = qr\n",
    "c0, c1, c2 = cr\n",
    "teleportation_circuit.measure(b, c2)\n",
    "teleportation_circuit.draw(\"mpl\")"
   ]
  },
  {
   "cell_type": "markdown",
   "id": "3780a15e-4a86-4d5a-af4c-8662f4462fb9",
   "metadata": {},
   "source": [
    "Ahora que tenemos un circuito de teleportación, ~~transmitamos al Capitán Kirk a la superficie de un planeta extraño~~ crea y teleporta un estado cuántico, y luego ejecuta el circuito en un simulador."
   ]
  },
  {
   "cell_type": "markdown",
   "id": "977a9fe6",
   "metadata": {},
   "source": [
    "### Ejercicio 5\n",
    "\n",
    "En la siguiente celda de código, construye un circuito de teleportación cuántica completo en la variable `teleport_superposition_circuit`, siguiendo los siguientes pasos:\n",
    "\n",
    "- Construye un circuito de preparación del estado. Prepara el qubit $s$ aplicando una rotación $R_x$ con ángulo $\\pi / 4$.\n",
    "- Combina el circuito de preparación de estado con tu circuito de teleportación construido previamente."
   ]
  },
  {
   "cell_type": "code",
   "execution_count": null,
   "id": "89fa5bdb-eb09-4fb8-9913-6fd6bb9f8ad2",
   "metadata": {
    "tags": []
   },
   "outputs": [],
   "source": [
    "import math\n",
    "\n",
    "teleport_superposition_circuit: QuantumCircuit\n",
    "\n",
    "####### your code goes here #######\n",
    "\n",
    "\n",
    "# Uncomment this line to draw your circuit\n",
    "teleport_superposition_circuit.draw(\"mpl\", cregbundle=False)"
   ]
  },
  {
   "cell_type": "code",
   "execution_count": null,
   "id": "1e0ef91c-964a-4fd6-ab52-36c859b69b13",
   "metadata": {
    "tags": []
   },
   "outputs": [],
   "source": [
    "from qiskit import transpile\n",
    "from qiskit_aer import AerSimulator\n",
    "from qiskit.visualization import plot_histogram\n",
    "\n",
    "sim = AerSimulator()\n",
    "transpiled_circuit = transpile(teleport_superposition_circuit, sim)\n",
    "\n",
    "# run job\n",
    "shots = 1000\n",
    "job = sim.run(transpiled_circuit, shots=shots, dynamic=True)\n",
    "\n",
    "# Get the results and display them\n",
    "exp_result = job.result()\n",
    "exp_counts = exp_result.get_counts()\n",
    "plot_histogram(exp_counts)"
   ]
  },
  {
   "cell_type": "markdown",
   "id": "80e72c0a-8a4e-4d29-92a7-022d3882552a",
   "metadata": {},
   "source": [
    "Calculemos la distribución solamente de la medición de Bob marginando sobre los otros bits medidos."
   ]
  },
  {
   "cell_type": "code",
   "execution_count": null,
   "id": "96a1fd3b-693b-4cd4-bb51-96f676dd1759",
   "metadata": {
    "tags": []
   },
   "outputs": [],
   "source": [
    "# trace out Bob's results on qubit 2\n",
    "from qiskit.result import marginal_counts\n",
    "\n",
    "bobs_counts = marginal_counts(exp_counts, [qr.index(b)])\n",
    "plot_histogram(bobs_counts)"
   ]
  },
  {
   "cell_type": "markdown",
   "id": "6a33717b",
   "metadata": {},
   "source": [
    "La distribución marginal debería estar algo cerca de las probabilidades ideales."
   ]
  },
  {
   "cell_type": "code",
   "execution_count": null,
   "id": "475e3774-da15-483b-9d2d-af54a8e0e568",
   "metadata": {
    "tags": []
   },
   "outputs": [],
   "source": [
    "from qc_grader.challenges.spring_2023 import grade_ex2e\n",
    "\n",
    "grade_ex2e(bobs_counts)"
   ]
  },
  {
   "cell_type": "markdown",
   "id": "9baa3099-7577-4bf9-9d1f-e0c54dc384b8",
   "metadata": {},
   "source": [
    "Ahora que estamos bastante seguros de que ~~el Capitán Kirk~~ el qubit de Alice se teleportará de manera segura, ejecutemos el circuito de teleportación cuántica en hardware real."
   ]
  },
  {
   "cell_type": "code",
   "execution_count": null,
   "id": "ca2f737c-a21f-4727-b14d-0e7e315631ba",
   "metadata": {
    "tags": []
   },
   "outputs": [],
   "source": [
    "from qiskit_ibm_provider import IBMProvider\n",
    "\n",
    "provider = IBMProvider()"
   ]
  },
  {
   "cell_type": "code",
   "execution_count": null,
   "id": "da33a9fb-6b6c-48a4-a1b0-dfca70474e22",
   "metadata": {
    "tags": []
   },
   "outputs": [],
   "source": [
    "hub = \"YOUR_HUB\"\n",
    "group = \"YOUR_GROUP\"\n",
    "project = \"YOUR_PROJECT\"\n",
    "\n",
    "backend_name = \"ibm_peekskill\"\n",
    "backend = provider.get_backend(backend_name, instance=f\"{hub}/{group}/{project}\")"
   ]
  },
  {
   "cell_type": "code",
   "execution_count": null,
   "id": "fe48f446-849f-46e9-b0a4-1dd5225db403",
   "metadata": {
    "tags": []
   },
   "outputs": [],
   "source": [
    "# backend.target.add_instruction(IfElseOp, name=\"if_else\") # Uncomment if necessary\n",
    "qc_transpiled = transpile(teleport_superposition_circuit, backend)"
   ]
  },
  {
   "cell_type": "code",
   "execution_count": null,
   "id": "cee84182-a90d-44b7-b44d-87309202cbc3",
   "metadata": {
    "tags": []
   },
   "outputs": [],
   "source": [
    "job = backend.run(qc_transpiled, shots=1000, dynamic=True)"
   ]
  },
  {
   "cell_type": "markdown",
   "id": "d113d086-b970-4fdc-807e-fafe7efde919",
   "metadata": {},
   "source": [
    "Debido a que lleva tiempo ejecutarse en el backend real, normalmente usas job_id para llamar a los trabajos (jobs) después de un tiempo.\n",
    "El siguiente código invoca trabajos a través de job_id y verifica el estado de ejecución. Aquí se explica cómo usarlo."
   ]
  },
  {
   "cell_type": "code",
   "execution_count": null,
   "id": "fc8458f1-43fd-48b2-a50c-65771262cbf1",
   "metadata": {
    "tags": []
   },
   "outputs": [],
   "source": [
    "retrieve_job = provider.retrieve_job(job.job_id())\n",
    "retrieve_job.status()"
   ]
  },
  {
   "cell_type": "markdown",
   "id": "a8f607a6-b2c9-46a5-a925-73105e91f698",
   "metadata": {},
   "source": [
    "Si tu trabajo terminó con éxito, entonces importemos los resultados."
   ]
  },
  {
   "cell_type": "code",
   "execution_count": null,
   "id": "ead9b3af-7d05-4213-9360-1343621ba3a0",
   "metadata": {},
   "outputs": [],
   "source": [
    "# Get the results and display them\n",
    "exp_result = retrieve_job.result()\n",
    "exp_counts = exp_result.get_counts()\n",
    "plot_histogram(exp_counts)"
   ]
  },
  {
   "cell_type": "code",
   "execution_count": null,
   "id": "88ddf3c8-732f-4825-a1b1-376bce0ab614",
   "metadata": {},
   "outputs": [],
   "source": [
    "# trace out Bob's results on qubit 2\n",
    "from qiskit.result import marginal_counts\n",
    "\n",
    "bobs_qubit = 2\n",
    "bobs_counts = marginal_counts(exp_counts, [bobs_qubit])\n",
    "plot_histogram(bobs_counts)"
   ]
  }
 ],
 "metadata": {
  "kernelspec": {
   "display_name": "Python 3 (ipykernel)",
   "language": "python",
   "name": "python3"
  },
  "language_info": {
   "codemirror_mode": {
    "name": "ipython",
    "version": 3
   },
   "file_extension": ".py",
   "mimetype": "text/x-python",
   "name": "python",
   "nbconvert_exporter": "python",
   "pygments_lexer": "ipython3",
   "version": "3.10.8"
  },
  "widgets": {
   "application/vnd.jupyter.widget-state+json": {
    "state": {},
    "version_major": 2,
    "version_minor": 0
   }
  }
 },
 "nbformat": 4,
 "nbformat_minor": 5
}
